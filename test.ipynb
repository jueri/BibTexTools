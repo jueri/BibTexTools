{
 "cells": [
  {
   "cell_type": "code",
   "execution_count": null,
   "metadata": {},
   "outputs": [],
   "source": [
    "import os"
   ]
  },
  {
   "cell_type": "code",
   "execution_count": null,
   "metadata": {},
   "outputs": [],
   "source": [
    "bibtes_path = \"BibTexTools/test/data/cleaned.bib\""
   ]
  },
  {
   "cell_type": "code",
   "execution_count": null,
   "metadata": {},
   "outputs": [],
   "source": [
    "assert os.path.isfile(bibtes_path)\n",
    "with open(bibtes_path, \"r\") as fin:\n",
    "    a = readlines(fin)"
   ]
  },
  {
   "cell_type": "code",
   "execution_count": 6,
   "metadata": {},
   "outputs": [],
   "source": [
    "from BibTexTools import bibtex_parser"
   ]
  },
  {
   "cell_type": "code",
   "execution_count": 1,
   "metadata": {},
   "outputs": [],
   "source": [
    "from BibTexTools.bibtex_parser import Parser\n",
    "\n",
    "parser = Parser()\n",
    "\n",
    "bibtes_path = \"BibTexTools/tests/data/cleaned.bib\"\n",
    "a = parser.from_file(bibtes_path)"
   ]
  },
  {
   "cell_type": "code",
   "execution_count": 2,
   "metadata": {},
   "outputs": [],
   "source": [
    "with open(bibtes_path, \"r\") as fin:\n",
    "    bibtex_string = fin.read()"
   ]
  },
  {
   "cell_type": "code",
   "execution_count": 3,
   "metadata": {},
   "outputs": [],
   "source": [
    "bib = parser.parse(bibtex_string)"
   ]
  },
  {
   "cell_type": "code",
   "execution_count": 4,
   "metadata": {},
   "outputs": [
    {
     "data": {
      "text/plain": [
       "'article'"
      ]
     },
     "execution_count": 4,
     "metadata": {},
     "output_type": "execute_result"
    }
   ],
   "source": [
    "a.entries[0]._type"
   ]
  },
  {
   "cell_type": "code",
   "execution_count": 5,
   "metadata": {},
   "outputs": [
    {
     "data": {
      "text/plain": [
       "'@article{DBLP:journals/corr/ZahediCW17, author= {Zohreh Zahedi and Rodrigo Costas and Paul Wouters}, title= {Mendeley readership as a filtering tool to identify highly cited publications}, journal= {CoRR}, volume= {abs/1703.07104}, year= {2017}, url= {http://arxiv.org/abs/1703.07104}, eprinttype = {arXiv}, eprint= {1703.07104}, timestamp = {Mon, 13 Aug 2018 16:48:04 +0200}, biburl= {https://dblp.org/rec/journals/corr/ZahediCW17.bib}, bibsource = {dblp computer science bibliography, https://dblp.org} '"
      ]
     },
     "execution_count": 5,
     "metadata": {},
     "output_type": "execute_result"
    }
   ],
   "source": [
    "a.entries[0].field_str"
   ]
  },
  {
   "cell_type": "code",
   "execution_count": 8,
   "metadata": {},
   "outputs": [
    {
     "data": {
      "text/plain": [
       "'@article{DBLP:journals/corr/ZahediCW17, author= {Zohreh Zahedi and Rodrigo Costas and Paul Wouters}, title= {Mendeley readership as a filtering tool to identify highly cited publications}, journal= {CoRR}, volume= {abs/1703.07104}, year= {2017}, url= {http://arxiv.org/abs/1703.07104}, eprinttype = {arXiv}, eprint= {1703.07104}, timestamp = {Mon, 13 Aug 2018 16:48:04 +0200}, biburl= {https://dblp.org/rec/journals/corr/ZahediCW17.bib}, bibsource = {dblp computer science bibliography, https://dblp.org} '"
      ]
     },
     "execution_count": 8,
     "metadata": {},
     "output_type": "execute_result"
    }
   ],
   "source": [
    "a.entries[0].field_str"
   ]
  },
  {
   "cell_type": "code",
   "execution_count": 14,
   "metadata": {},
   "outputs": [
    {
     "name": "stderr",
     "output_type": "stream",
     "text": [
      "/Users/jueri/dev/clean_bibtex/BibTexTools/bibliography.py:217: UserWarning: Warning: \"url\" is not a standard Bibtex field\n",
      "  warnings.warn(\n"
     ]
    }
   ],
   "source": [
    "from BibTexTools.bibtex_parser import Parser\n",
    "\n",
    "parser = Parser()\n",
    "\n",
    "with open(\n",
    "    os.path.join(\"BibTexTools\", \"tests\", \"data\", \"full.bib\"), \"r\"\n",
    ") as fin:\n",
    "    bibtex_string = fin.read()\n",
    "\n",
    "parsed_bibtex = parser.parse(bibtex_string)"
   ]
  },
  {
   "cell_type": "code",
   "execution_count": 16,
   "metadata": {},
   "outputs": [],
   "source": [
    "parsed_bibtex.to_json(os.path.join(\"BibTexTools\", \"tests\", \"data\", \"to_json_ref.json\"))"
   ]
  },
  {
   "cell_type": "code",
   "execution_count": 8,
   "metadata": {},
   "outputs": [
    {
     "data": {
      "text/plain": [
       "{'Akey': {'type': 'Atype',\n",
       "  'author': 'A1_First von A1_Last and von A2_Last, A2_First',\n",
       "  'title': 'A_Title',\n",
       "  'journal': 'A_Journal',\n",
       "  'volume': 'A_Volume',\n",
       "  'year': 'A_Year',\n",
       "  'url': 'A_Url'}}"
      ]
     },
     "execution_count": 8,
     "metadata": {},
     "output_type": "execute_result"
    }
   ],
   "source": [
    "entry = parsed_bibtex.to_dict()\n",
    "entry.to_dict()"
   ]
  },
  {
   "cell_type": "code",
   "execution_count": 13,
   "metadata": {},
   "outputs": [
    {
     "data": {
      "text/plain": [
       "BibTexTools.bibliography.Journal_field"
      ]
     },
     "execution_count": 13,
     "metadata": {},
     "output_type": "execute_result"
    }
   ],
   "source": [
    "type(entry.journal)"
   ]
  },
  {
   "cell_type": "code",
   "execution_count": 2,
   "metadata": {},
   "outputs": [
    {
     "ename": "NameError",
     "evalue": "name 'parsed_bibtex' is not defined",
     "output_type": "error",
     "traceback": [
      "\u001b[0;31m---------------------------------------------------------------------------\u001b[0m",
      "\u001b[0;31mNameError\u001b[0m                                 Traceback (most recent call last)",
      "Input \u001b[0;32mIn [2]\u001b[0m, in \u001b[0;36m<module>\u001b[0;34m\u001b[0m\n\u001b[0;32m----> 1\u001b[0m parsed_bibtex\u001b[39m.\u001b[39mentries[\u001b[39m0\u001b[39m]\u001b[39m.\u001b[39myear\u001b[39m.\u001b[39mvalue\n",
      "\u001b[0;31mNameError\u001b[0m: name 'parsed_bibtex' is not defined"
     ]
    }
   ],
   "source": [
    "parsed_bibtex.entries[0].year.value#.bibsource"
   ]
  },
  {
   "cell_type": "code",
   "execution_count": 3,
   "metadata": {},
   "outputs": [
    {
     "data": {
      "text/plain": [
       "True"
      ]
     },
     "execution_count": 3,
     "metadata": {},
     "output_type": "execute_result"
    }
   ],
   "source": [
    "\"2017\".isdigit()"
   ]
  },
  {
   "cell_type": "code",
   "execution_count": 4,
   "metadata": {},
   "outputs": [
    {
     "data": {
      "text/plain": [
       "'@article{DBLP:journals/ipm/Park97, author= {H. Park}, title= {Relevance of Science Information: Origins and Dimensions of Relevance and Their Implications to Information Retrieval}, journal= {Inf. Process. Manag.}, volume= {33}, number= {3}, pages= {339--352}, year= {1997}, url= {https://doi.org/10.1016/S0306-4573(96)00072-6}, doi= {10.1016/S0306-4573(96)00072-6}, timestamp = {Fri, 21 Feb 2020 13:11:34 +0100}, biburl= {https://dblp.org/rec/journals/ipm/Park97.bib}, bibsource = {dblp computer science bibliography, https://dblp.org} '"
      ]
     },
     "execution_count": 4,
     "metadata": {},
     "output_type": "execute_result"
    }
   ],
   "source": [
    "parsed_bibtex.entries[10].string"
   ]
  },
  {
   "cell_type": "code",
   "execution_count": 15,
   "metadata": {},
   "outputs": [],
   "source": [
    "from dataclasses import dataclass, field\n",
    "\n",
    "@dataclass\n",
    "class Entry:\n",
    "    field_str: str = \"\"\n",
    "    _type: str = \"\"\n",
    "    key: str = \"\"\n"
   ]
  },
  {
   "cell_type": "code",
   "execution_count": 3,
   "metadata": {},
   "outputs": [],
   "source": [
    "e = Entry()"
   ]
  },
  {
   "cell_type": "code",
   "execution_count": 14,
   "metadata": {},
   "outputs": [
    {
     "data": {
      "text/plain": [
       "''"
      ]
     },
     "execution_count": 14,
     "metadata": {},
     "output_type": "execute_result"
    }
   ],
   "source": [
    "a = list(e.__dict__.keys())[0]\n",
    "e.__getattribute__(a)"
   ]
  },
  {
   "cell_type": "code",
   "execution_count": 15,
   "metadata": {},
   "outputs": [],
   "source": [
    "name = \"test\"\n",
    "value = \"Hi\"\n",
    "setattr(e, name, value)"
   ]
  },
  {
   "cell_type": "code",
   "execution_count": 19,
   "metadata": {},
   "outputs": [
    {
     "data": {
      "text/plain": [
       "{'field_str': '', '_type': '', 'key': '', 'test': 'Hi'}"
      ]
     },
     "execution_count": 19,
     "metadata": {},
     "output_type": "execute_result"
    }
   ],
   "source": [
    "e.__dict__"
   ]
  },
  {
   "cell_type": "code",
   "execution_count": null,
   "metadata": {},
   "outputs": [],
   "source": []
  }
 ],
 "metadata": {
  "interpreter": {
   "hash": "95fc40b8f07b755b1d46d3c633b6bcaf977032494613b4a25479a60eb79a03a2"
  },
  "kernelspec": {
   "display_name": "Python 3.8.9 ('clean_bibtex-IH1MGB3M')",
   "language": "python",
   "name": "python3"
  },
  "language_info": {
   "codemirror_mode": {
    "name": "ipython",
    "version": 3
   },
   "file_extension": ".py",
   "mimetype": "text/x-python",
   "name": "python",
   "nbconvert_exporter": "python",
   "pygments_lexer": "ipython3",
   "version": "3.8.9"
  },
  "orig_nbformat": 4
 },
 "nbformat": 4,
 "nbformat_minor": 2
}
